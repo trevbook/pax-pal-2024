{
 "cells": [
  {
   "cell_type": "markdown",
   "metadata": {},
   "source": [
    "# **Searching Descriptions**"
   ]
  },
  {
   "cell_type": "markdown",
   "metadata": {},
   "source": [
    "# Setup\n",
    "The cells below will help to set up the rest of the notebook. \n",
    "\n",
    "I'll start by configuring the kernel that's running this notebook:"
   ]
  },
  {
   "cell_type": "code",
   "execution_count": 1,
   "metadata": {},
   "outputs": [
    {
     "name": "stdout",
     "output_type": "stream",
     "text": [
      "/Users/thubbard/Documents/Personal/Programming/pax-east-game-search\n"
     ]
    },
    {
     "name": "stderr",
     "output_type": "stream",
     "text": [
      "/Users/thubbard/Documents/Personal/Programming/pax-east-game-search/.venv/lib/python3.11/site-packages/IPython/core/magics/osm.py:417: UserWarning: This is now an optional IPython functionality, setting dhist requires you to install the `pickleshare` library.\n",
      "  self.shell.db['dhist'] = compress_dhist(dhist)[-100:]\n"
     ]
    }
   ],
   "source": [
    "# Change the cwd\n",
    "%cd ..\n",
    "\n",
    "# Enable the autoreload module\n",
    "%load_ext autoreload\n",
    "%autoreload 2"
   ]
  },
  {
   "cell_type": "markdown",
   "metadata": {},
   "source": [
    "Next, I'm going to import the necessary modules:"
   ]
  },
  {
   "cell_type": "code",
   "execution_count": 8,
   "metadata": {},
   "outputs": [],
   "source": [
    "# General import statements\n",
    "import pandas as pd\n",
    "\n",
    "# Set up the OpenAI API client\n",
    "from openai import OpenAI\n",
    "client = OpenAI()"
   ]
  },
  {
   "cell_type": "markdown",
   "metadata": {},
   "source": [
    "# Loading Data"
   ]
  },
  {
   "cell_type": "code",
   "execution_count": 7,
   "metadata": {},
   "outputs": [
    {
     "data": {
      "text/html": [
       "<div>\n",
       "<style scoped>\n",
       "    .dataframe tbody tr th:only-of-type {\n",
       "        vertical-align: middle;\n",
       "    }\n",
       "\n",
       "    .dataframe tbody tr th {\n",
       "        vertical-align: top;\n",
       "    }\n",
       "\n",
       "    .dataframe thead th {\n",
       "        text-align: right;\n",
       "    }\n",
       "</style>\n",
       "<table border=\"1\" class=\"dataframe\">\n",
       "  <thead>\n",
       "    <tr style=\"text-align: right;\">\n",
       "      <th></th>\n",
       "      <th>id</th>\n",
       "      <th>publisher</th>\n",
       "      <th>booth</th>\n",
       "      <th>ganme_name</th>\n",
       "      <th>description</th>\n",
       "      <th>link</th>\n",
       "    </tr>\n",
       "  </thead>\n",
       "  <tbody>\n",
       "    <tr>\n",
       "      <th>180</th>\n",
       "      <td>181</td>\n",
       "      <td>Stanion Studios</td>\n",
       "      <td>11031</td>\n",
       "      <td>TideTurn</td>\n",
       "      <td>TideTurn, produced by Stanion Studios, is a dy...</td>\n",
       "      <td>https://www.playtideturn.com/index.html</td>\n",
       "    </tr>\n",
       "    <tr>\n",
       "      <th>119</th>\n",
       "      <td>120</td>\n",
       "      <td>High Point University</td>\n",
       "      <td>10049</td>\n",
       "      <td>No Info</td>\n",
       "      <td>\"Students from the Game Design major, the Game...</td>\n",
       "      <td>https://www.highpoint.edu/gamedesign/</td>\n",
       "    </tr>\n",
       "    <tr>\n",
       "      <th>104</th>\n",
       "      <td>105</td>\n",
       "      <td>Galaktus Publishing</td>\n",
       "      <td>14049</td>\n",
       "      <td>Union Of Gnomes \\n(HeroCraft)</td>\n",
       "      <td>Lead the unbreakable gnomes union, uprise agai...</td>\n",
       "      <td>https://store.steampowered.com/app/2097030/Uni...</td>\n",
       "    </tr>\n",
       "    <tr>\n",
       "      <th>207</th>\n",
       "      <td>208</td>\n",
       "      <td>Cephalofair Games</td>\n",
       "      <td>12115</td>\n",
       "      <td>No Info</td>\n",
       "      <td>No Info</td>\n",
       "      <td>https://cephalofair.com/pages/shop</td>\n",
       "    </tr>\n",
       "    <tr>\n",
       "      <th>162</th>\n",
       "      <td>163</td>\n",
       "      <td>Schell Games</td>\n",
       "      <td>13093</td>\n",
       "      <td>Silent Slayer: Vault of the Vampire</td>\n",
       "      <td>In this single-player horror game filled with ...</td>\n",
       "      <td>https://www.meta.com/experiences/5353670608005...</td>\n",
       "    </tr>\n",
       "  </tbody>\n",
       "</table>\n",
       "</div>"
      ],
      "text/plain": [
       "      id              publisher  booth                           ganme_name  \\\n",
       "180  181        Stanion Studios  11031                             TideTurn   \n",
       "119  120  High Point University  10049                              No Info   \n",
       "104  105    Galaktus Publishing  14049        Union Of Gnomes \\n(HeroCraft)   \n",
       "207  208      Cephalofair Games  12115                              No Info   \n",
       "162  163           Schell Games  13093  Silent Slayer: Vault of the Vampire   \n",
       "\n",
       "                                           description  \\\n",
       "180  TideTurn, produced by Stanion Studios, is a dy...   \n",
       "119  \"Students from the Game Design major, the Game...   \n",
       "104  Lead the unbreakable gnomes union, uprise agai...   \n",
       "207                                            No Info   \n",
       "162  In this single-player horror game filled with ...   \n",
       "\n",
       "                                                  link  \n",
       "180            https://www.playtideturn.com/index.html  \n",
       "119              https://www.highpoint.edu/gamedesign/  \n",
       "104  https://store.steampowered.com/app/2097030/Uni...  \n",
       "207                 https://cephalofair.com/pages/shop  \n",
       "162  https://www.meta.com/experiences/5353670608005...  "
      ]
     },
     "execution_count": 7,
     "metadata": {},
     "output_type": "execute_result"
    }
   ],
   "source": [
    "# Load the data\n",
    "pax_east_data_df = pd.read_excel(\"data/pax-east-2024-games.xlsx\")\n",
    "\n",
    "# Show a random sample\n",
    "pax_east_data_df.sample(5)"
   ]
  },
  {
   "cell_type": "markdown",
   "metadata": {},
   "source": [
    "# Embedding Descriptions"
   ]
  },
  {
   "cell_type": "code",
   "execution_count": 11,
   "metadata": {},
   "outputs": [],
   "source": [
    "def embed_text(text):\n",
    "    \"\"\"\n",
    "    Embeds some text using the OpenAI text-embedding-3 model.\n",
    "    \"\"\"\n",
    "    response = client.embeddings.create(input=text, model=\"text-embedding-3-large\")\n",
    "    return response.data[0].embedding"
   ]
  },
  {
   "cell_type": "code",
   "execution_count": 13,
   "metadata": {},
   "outputs": [],
   "source": [
    "# Copy the DataFrame to operate on\n",
    "pax_east_data_with_emb_df = pax_east_data_df.copy()\n",
    "\n",
    "# Embed the game descriptions\n",
    "pax_east_data_with_emb_df[\"description_emb\"] = pax_east_data_with_emb_df[\"description\"].apply(embed_text)"
   ]
  },
  {
   "cell_type": "markdown",
   "metadata": {},
   "source": [
    "### **SAVING**"
   ]
  },
  {
   "cell_type": "code",
   "execution_count": 39,
   "metadata": {},
   "outputs": [],
   "source": [
    "# Save the pax_east_data_with_emb_df to json\n",
    "pax_east_data_with_emb_df.to_json(\"data/pax-east-2024-games-emb.json\")"
   ]
  },
  {
   "cell_type": "code",
   "execution_count": 61,
   "metadata": {},
   "outputs": [],
   "source": [
    "pax_east_data_with_emb_df[\"booth\"] = pax_east_data_with_emb_df[\"booth\"].apply(lambda x: str(x))"
   ]
  },
  {
   "cell_type": "code",
   "execution_count": 62,
   "metadata": {},
   "outputs": [],
   "source": [
    "# Save the data as a .parquet file\n",
    "pax_east_data_with_emb_df.to_parquet(\"data/pax-east-2024-games-emb.parquet\")"
   ]
  },
  {
   "cell_type": "markdown",
   "metadata": {},
   "source": [
    "# Searching Descriptions\n",
    "Below, you'll be able to search for a game. Type in your query, and then find the games that are similar. "
   ]
  },
  {
   "cell_type": "code",
   "execution_count": 55,
   "metadata": {},
   "outputs": [],
   "source": [
    "# Declare your query, and embed it \n",
    "query = \"\"\"bloons tower defense\"\"\"\n",
    "query_emb = embed_text(query)"
   ]
  },
  {
   "cell_type": "code",
   "execution_count": 56,
   "metadata": {},
   "outputs": [],
   "source": [
    "# Copy the DataFrame to operate on\n",
    "sim_df = pax_east_data_with_emb_df.copy()\n",
    "\n",
    "# Calculate the similarity between the query and the game descriptions\n",
    "import numpy as np\n",
    "sim_df[\"similarity\"] = sim_df[\"description_emb\"].apply(lambda x: np.dot(query_emb, x))\n"
   ]
  },
  {
   "cell_type": "code",
   "execution_count": 57,
   "metadata": {},
   "outputs": [
    {
     "name": "stdout",
     "output_type": "stream",
     "text": [
      "Title: Everwarder\n",
      "Similarity: 0.4170814875888395\n",
      "Description:\n",
      "A 2D roguelite tower defense. Defend the crystal against endless \n",
      "streams of enemies while exploring procedurally generated worlds. \n",
      "Design your defense and keep up with constantly rising difficulty \n",
      "by acquiring powerful artifacts, evolve units, progress in upgrade \n",
      "tree and more!\n",
      "\n",
      "\n",
      "Title: Cats on Duty \n",
      "(ESDigital Games)\n",
      "Similarity: 0.37629605598971494\n",
      "Description:\n",
      "A purr-fect blend of RTS, tower defense, and match-3 game \n",
      "genres. Manage two game fields at once as well as arm and \n",
      "upgrade your cat towers to defeat hordes of formidable foes. \n",
      "Enjoy the meow-nificent battle!\n",
      "\n",
      "\n",
      "Title: Zombie Rollerz: The Last Ship\n",
      "Similarity: 0.37146815102555497\n",
      "Description:\n",
      "Build turrets, lead your crew, and upgrade the ship while gathering \n",
      "loot in this exciting \"Tower Defense-on-wheels zombie survival \n",
      "roguelite\" game.\n",
      "\n",
      "\n",
      "Title: Back Off Barbarian\n",
      "Similarity: 0.3372287254781051\n",
      "Description:\n",
      "See: Castle Crashers\n",
      "\n",
      "\n",
      "Title: Toy Tactics\n",
      "Similarity: 0.3370606033478303\n",
      "Description:\n",
      "Become a master strategist in this innovative physics-based RTS \n",
      "game. Control armies inspired by minifigs and personalize your \n",
      "strategies with hand drawn formations. Each of the five armies \n",
      "has their own campaign to conquer! With Mercenary, Puzzle and \n",
      "Sandbox modes to keep the fun going.\n",
      "\n",
      "\n"
     ]
    }
   ],
   "source": [
    "# Sort the DataFrame by similarity\n",
    "sim_df = sim_df.sort_values(\"similarity\", ascending=False)\n",
    "\n",
    "# For each of the first 5 most similar games, print the title and the similarity\n",
    "for i in range(5):\n",
    "    print(f\"Title: {sim_df.iloc[i]['ganme_name']}\")\n",
    "    print(f\"Similarity: {sim_df.iloc[i]['similarity']}\")\n",
    "    print(\"Description:\")\n",
    "    print(sim_df.iloc[i]['description'])\n",
    "    print(\"\\n\")"
   ]
  },
  {
   "cell_type": "code",
   "execution_count": null,
   "metadata": {},
   "outputs": [],
   "source": []
  },
  {
   "cell_type": "code",
   "execution_count": null,
   "metadata": {},
   "outputs": [],
   "source": []
  }
 ],
 "metadata": {
  "kernelspec": {
   "display_name": ".venv",
   "language": "python",
   "name": "python3"
  },
  "language_info": {
   "codemirror_mode": {
    "name": "ipython",
    "version": 3
   },
   "file_extension": ".py",
   "mimetype": "text/x-python",
   "name": "python",
   "nbconvert_exporter": "python",
   "pygments_lexer": "ipython3",
   "version": "3.11.0"
  }
 },
 "nbformat": 4,
 "nbformat_minor": 2
}
